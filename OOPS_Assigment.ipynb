{
  "nbformat": 4,
  "nbformat_minor": 0,
  "metadata": {
    "colab": {
      "provenance": []
    },
    "kernelspec": {
      "name": "python3",
      "display_name": "Python 3"
    },
    "language_info": {
      "name": "python"
    }
  },
  "cells": [
    {
      "cell_type": "markdown",
      "source": [
        "**Python OOPs Questions**\n",
        "\n",
        "1. What is Object-Oriented Programming (OOP)?\n",
        "* Object-Oriented Programming (OOP) is a programming paradigm that organizes software design around objects, which are data structures containing both data (attributes) and code (methods) that operate on that data, promoting code reusability and modularity.\n",
        "\n",
        "2. What is a class in OOP?\n",
        "* In object-oriented programming (OOP), a class is a blueprint or template for creating objects, defining the data (attributes) and behavior (methods) that objects of that class will have.\n",
        "\n",
        "3. What is an object in OOP?\n",
        "* In object-oriented programming (OOP), an object is a fundamental unit that encapsulates data (attributes or properties) and the actions (methods or functions) that operate on that data, representing a real-world entity or concept.\n"
      ],
      "metadata": {
        "id": "TczYyGd1kY26"
      }
    },
    {
      "cell_type": "code",
      "execution_count": null,
      "metadata": {
        "id": "ME8jIy20kS6_"
      },
      "outputs": [],
      "source": [
        "#4. What is the difference between abstraction and encapsulation?\n",
        "# Abstraction\n",
        "# hides complex implementation details, exposing only the essential features.\n",
        "# Abstraction focus What an object does (behavior).\n",
        "# Achieved using abstract classes or interfaces.\n",
        "# Focuses on showing only relevant information to the user.\n",
        "# Abstract method startEngine() in a Car class.\n",
        "\n",
        "# Encapsulation\n",
        "# hides the internal state and only exposes controlled access through methods.\n",
        "# Encapsulation focus how an object's data is accessed and modified\n",
        "# Achieved using access modifiers (private, public, etc.) and methods.\n",
        "# Focuses on controlling access to data.\n",
        "# Private balance field with public deposit() and withdraw() methods in a BankAccount"
      ]
    },
    {
      "cell_type": "markdown",
      "source": [
        "5.  What are dunder methods in Python?\n",
        "* In Python, dunder methods short for \"double underscore methods\" are special methods that have double underscores before and after their names. They are also known as magic methods or special methods. These methods allow you to define the behavior of objects in specific scenarios, such as how they behave with operators, how they are represented as strings, how they are compared, and more.\n",
        "\n",
        "6. Explain the concept of inheritance in OOPH\n",
        "* Inheritance is one of the core concepts of Object-Oriented Programming (OOP), and it allows a class (known as a child class or subclass) to inherit properties and behaviors (attributes and methods) from another class (called the parent class or superclass). The idea behind inheritance is to promote code reusability, reduce redundancy, and allow for the creation of more specialized subclasses that extend the functionality of existing classes.\n",
        "\n",
        "7. What is polymorphism in OOP?\n",
        "* Polymorphism is one of the core concepts of Object-Oriented Programming (OOP) that allows objects of different classes to be treated as objects of a common superclass. The term \"polymorphism\" comes from Greek, meaning \"many forms,\" and in OOP, it refers to the ability to use a single interface to represent different types or behaviors.\n",
        "\n",
        "8. How is encapsulation achieved in Python?\n",
        "* Encapsulation is one of the fundamental concepts of Object-Oriented Programming (OOP) that refers to the bundling of data (attributes) and the methods that operate on that data into a single unit, typically a class. The main goal of encapsulation is to restrict direct access to some of an object's components and protect its internal state from unintended interference and misuse. In Python, encapsulation is achieved through the use of access modifiers and getter and setter methods.\n",
        "\n",
        "9. What is a constructor in Python?\n",
        "* In Python, the constructor is defined by the special method __init__(). This method is called when you create an object of a class. It allows you to initialize the object's attributes with values passed as arguments during object creation.\n",
        "\n",
        "10. What are class and static methods in Python?\n",
        "* A class method is a method that is bound to the class rather than its instance. It can modify class-level data, and it receives the class itself as the first argument instead of an instance. This means that class methods can access and modify class-level attributes.\n",
        "* A static method is a method that does not depend on the instance or class. It does not receive self (instance) or cls (class) as the first argument. Static methods are used to perform tasks that are logically related to the class but don't require access to any instance or class-specific data.\n",
        "\n",
        "11. What is method overloading in Python?\n",
        "* Method overloading refers to the ability to define multiple methods with the same name but different parameter lists. This feature allows a method to behave differently based on the arguments it is passed.\n",
        "\n",
        "12. What is method overriding in OOP?\n",
        "* Method overriding in Object-Oriented Programming (OOP) refers to the concept where a subclass provides a specific implementation of a method that is already defined in its superclass. The overriding method in the subclass must have the same name, parameters, and return type as the method in the superclass, but it can provide its own functionality, thus replacing or extending the behavior of the inherited method.\n",
        "\n",
        "13. What is a property decorator in Python?\n",
        "* The property decorator in Python is a built-in decorator used to define getter methods for instance attributes, allowing them to be accessed like regular attributes, but with additional functionality.\n",
        "\n",
        "14.  Why is polymorphism important in OOP?\n",
        "* Polymorphism is one of the core principles of Object-Oriented Programming (OOP) and refers to the ability of different objects to respond to the same method call in different ways. This allows for flexibility and extensibility in code, enabling you to write more general, reusable, and maintainable code.\n",
        "\n",
        "* polymorphism important in OOP because it's Code Reusability, Flexibility and Extensibility, Dynamic Method Dispatch, Improved Maintainability, Interface Consistency, Reduced Coupling, Supports Abstraction,\n",
        "\n",
        "15. What is an abstract class in Python?\n",
        "* An abstract class in Python is a class that cannot be instantiated directly and is meant to be subclassed by other classes. It provides a common interface (abstract methods) that must be implemented by its subclasses.\n",
        "* abstract classes are defined using the abc (Abstract Base Class) module\n",
        "\n",
        "16. What are the advantages of OOP?\n",
        "* Object-Oriented Programming (OOP) offers a variety of advantages that make it a widely-used programming paradigm, especially in large, complex systems.\n",
        "* Object-Oriented Programming (OOP) advantages are Modularity, Reusability, Maintainability,Scalability, Abstraction, Encapsulation, Data Security, Improved Collaboration and Code Sharing and Flexible and Dynamic.\n",
        "\n",
        "17.  What is the difference between a class variable and an instance variable?\n",
        "* **Instance Variable** - Inside __init__() method or instance methods.\n",
        "- Unique to each instance of the class\n",
        "- Accessed via self.<variable_name>\n",
        "- Each instance gets its own copy\n",
        "- Used for data that varies between instances.\n",
        "**Class Variable** - Inside the class, but outside any methods\n",
        "- Shared across all instances of the class\n",
        "- Accessed via self.<variable_name> or Class.<variable_name>\n",
        "- One copy shared by all instances of the class\n",
        "- Used for data that is common to all instances.\n",
        "\n",
        "18. What is multiple inheritance in Python?\n",
        "* Multiple inheritance in Python refers to the ability of a class to inherit from more than one parent class. This allows the derived class to inherit attributes and methods from multiple base classes, enabling more flexible and reusable code. It allows you to combine the behavior of multiple classes into one class, avoiding the need to repeat code.\n",
        "\n",
        "19.  Explain the purpose of \"__str__\" and \"__repr__\"  methods in Python?\n",
        "* The __str__ method is used to define how an object should be represented as a string for human consumption (e.g., when printing an object). Its main purpose is to provide a readable or informal string representation of the object that is easy for users to understand.\n",
        "* The __repr__ method is used to define how an object should be represented as a string for developers or for debugging purposes. The goal of __repr__ is to provide an unambiguous string representation of the object that, ideally, could be used to recreate the object using eval().\n",
        "\n",
        "20. What is the significance of the \"super()\" function in Python?\n",
        "* The super() function in Python is used to call methods from a parent class (or superclass) in a subclass. It is a way to access and invoke methods or properties from the base class without explicitly naming it, helping to avoid hardcoding the parent class name. This is especially useful when working with inheritance and method overriding, as it provides a flexible and maintainable way to call parent class methods.\n",
        "\n",
        "21. What is the significance of the __del__ method in Python?\n",
        "* Significance of __del__ Method are:\n",
        " - Resource Cleanup\n",
        " - Custom Cleanup Logic\n",
        " - Automatic Cleanup\n",
        " - Manages Non-Python Resources\n",
        "\n",
        "22. What is the difference between @staticmethos and @classmethod in python?\n",
        "* **@staticmethod**:\n",
        " - A staticmethod does not require a reference to the instance (self) or the class (cls).\n",
        " - It behaves just like a regular function but is placed inside a class for organizational purposes.\n",
        " - It cannot modify the class or instance state.\n",
        " - It does not take any implicit first argument.\n",
        " **@classmethod**:\n",
        " - A classmethod takes a reference to the class (cls) as its first parameter.\n",
        " - It can modify class-level attributes but not instance-level attributes.\n",
        " - It is often used for factory methods or alternative constructors.\n",
        "\n",
        "23. How does polymorshism work in python with inheritance?\n",
        "* Polymorphism allows different classes to share the same interface while implementing their own unique behaviors. In Python, this is commonly used in inheritance, where child classes override or extend methods from a parent class.\n",
        "\n",
        "24. What is method chaining in python OOP?\n",
        "* Method chaining is a technique in object-oriented programming (OOP) where multiple methods are called on the same object in a single line.\n",
        "\n",
        "25. What is the purpose of the __call__ method in Python?\n",
        "* The __call__ method in Python allows an instance of a class to be called like a function. This means you can use object_name() syntax as if the object were a function."
      ],
      "metadata": {
        "id": "qatYxNmKoLr4"
      }
    },
    {
      "cell_type": "code",
      "source": [
        "#Practical Questions\n",
        "#1. Create a parent class Animal with a method speak() that prints a generic message. Create a child class Dog that overrides the speak() method to print \"Bark!\".\n",
        "class Animal:\n",
        "    def speak(self):\n",
        "        print(\"This animal makes a sound\")\n",
        "\n",
        "class Dog(Animal):\n",
        "    def speak(self):\n",
        "        print(\"Bark!\")\n"
      ],
      "metadata": {
        "id": "yriQ5Pk5oGXp"
      },
      "execution_count": null,
      "outputs": []
    },
    {
      "cell_type": "code",
      "source": [
        "#2. Write a program to create an abstract class Shape with a method area(). Derive classes Circle and Rectangle from it and implement the area() method in both.\n",
        "from abc import ABC, abstractmethod\n",
        "\n",
        "class Shape(ABC):\n",
        "    @abstractmethod\n",
        "    def area(self):\n",
        "        pass"
      ],
      "metadata": {
        "id": "TYQxiEfyfrxY"
      },
      "execution_count": null,
      "outputs": []
    },
    {
      "cell_type": "code",
      "source": [
        "# Derived class: Circle\n",
        "class Circle(Shape):\n",
        "    def __init__(self, radius):\n",
        "        self.radius = radius\n",
        "\n",
        "    def area(self):\n",
        "        return math.pi * self.radius ** 2"
      ],
      "metadata": {
        "id": "Ozb7D5UshV3u"
      },
      "execution_count": null,
      "outputs": []
    },
    {
      "cell_type": "code",
      "source": [
        "# Derived class: Rectangle\n",
        "class Rectangle(Shape):\n",
        "    def __init__(self, width, height):\n",
        "        self.width = width\n",
        "        self.height = height\n",
        "\n",
        "    def area(self):\n",
        "        return self.width * self.height"
      ],
      "metadata": {
        "id": "mmWa-7KIhmPA"
      },
      "execution_count": null,
      "outputs": []
    },
    {
      "cell_type": "code",
      "source": [
        "#3. Implement a multi-level inheritance scenario where a class Vehicle has an attribute type. Derive a class Car and further derive a class ElectricCar that adds a battery attribute.\n",
        "# Base class\n",
        "class Vehicle:\n",
        "    def __init__(self, vehicle_type):\n",
        "        self.type = vehicle_type\n",
        "\n",
        "    def display_type(self):\n",
        "        print(f\"Vehicle Type: {self.type}\")\n",
        "\n",
        "# Intermediate class\n",
        "class Car(Vehicle):\n",
        "    def __init__(self, vehicle_type, brand):\n",
        "        super().__init__(vehicle_type)\n",
        "        self.brand = brand\n",
        "\n",
        "    def display_brand(self):\n",
        "        print(f\"Car Brand: {self.brand}\")\n",
        "\n",
        "# Derived class\n",
        "class ElectricCar(Car):\n",
        "    def __init__(self, vehicle_type, brand, battery_capacity):\n",
        "        super().__init__(vehicle_type, brand)\n",
        "        self.battery_capacity = battery_capacity\n",
        "\n",
        "    def display_battery(self):\n",
        "        print(f\"Battery Capacity: {self.battery_capacity} kWh\")\n",
        "\n",
        "# Example usage\n",
        "ev = ElectricCar(\"Four-wheeler\", \"Tesla\", 75)\n",
        "\n",
        "ev.display_type()\n",
        "ev.display_brand()\n",
        "ev.display_battery()\n"
      ],
      "metadata": {
        "colab": {
          "base_uri": "https://localhost:8080/"
        },
        "id": "QcRSu2EVhrfz",
        "outputId": "c2058f81-41cd-490c-afe5-1c12b24eba37"
      },
      "execution_count": null,
      "outputs": [
        {
          "output_type": "stream",
          "name": "stdout",
          "text": [
            "Vehicle Type: Four-wheeler\n",
            "Car Brand: Tesla\n",
            "Battery Capacity: 75 kWh\n"
          ]
        }
      ]
    },
    {
      "cell_type": "code",
      "source": [
        "#4. Demonstrate polymorphism by creating a base class Bird with a method fly(). Create two derived classes Sparrow and Penguin that override the fly() method.\n",
        "# Base class\n",
        "class Bird:\n",
        "    def fly(self):\n",
        "        print(\"Some birds can fly.\")\n",
        "\n",
        "# Derived class: Sparrow\n",
        "class Sparrow(Bird):\n",
        "    def fly(self):\n",
        "        print(\"Sparrow flies high in the sky!\")\n",
        "\n",
        "# Derived class: Penguin\n",
        "class Penguin(Bird):\n",
        "    def fly(self):\n",
        "        print(\"Penguins cannot fly, but they swim well!\")\n",
        "\n",
        "# Function demonstrating polymorphism\n",
        "def bird_flight(bird):\n",
        "    bird.fly()\n",
        "\n",
        "# Example usage\n",
        "sparrow = Sparrow()\n",
        "penguin = Penguin()\n",
        "\n",
        "bird_flight(sparrow)\n",
        "bird_flight(penguin)\n"
      ],
      "metadata": {
        "colab": {
          "base_uri": "https://localhost:8080/"
        },
        "id": "x_j8tgrnh95u",
        "outputId": "20d7deac-dc6f-488f-da50-538ae374f911"
      },
      "execution_count": null,
      "outputs": [
        {
          "output_type": "stream",
          "name": "stdout",
          "text": [
            "Sparrow flies high in the sky!\n",
            "Penguins cannot fly, but they swim well!\n"
          ]
        }
      ]
    },
    {
      "cell_type": "code",
      "source": [
        "#5. Write a program to demonstrate encapsulation by creating a class BankAccount with private attributes balance and methods to deposit, withdraw, and check balance\n",
        "class BankAccount:\n",
        "    def __init__(self, initial_balance=0):\n",
        "        self._balance = initial_balance\n",
        "    def deposit(self, amount):\n",
        "        if amount > 0:\n",
        "            self._balance += amount\n",
        "            print(f\"Deposited ${amount}. New Balance: ${self.__balance}\")\n",
        "        else:\n",
        "            print(\"Deposit amount must be positive.\")\n",
        "    def withdraw(self, amount):\n",
        "        if 0 < amount <= self._balance:\n",
        "            self._balance -= amount\n",
        "            print(f\"Withdrew ${amount}. New Balance: ${self.__balance}\")\n",
        "        else:\n",
        "            print(\"Insufficient balance or invalid amount.\")\n",
        "    def check_balance(self):\n",
        "        print(f\"Account Balance for {self.account_holder}: ${self.__balance}\")"
      ],
      "metadata": {
        "id": "fHIFbGwTiiyK"
      },
      "execution_count": null,
      "outputs": []
    },
    {
      "cell_type": "code",
      "source": [
        "#6 Demonstrate runtime polymorphism using a method play() in a base class Instrument. Derive classes Guitar and Piano that implement their own version of play()\n",
        "# Base class\n",
        "class Instrument:\n",
        "    def play(self):\n",
        "        print(\"Playing an instrument.\")\n",
        "\n",
        "# Derived class: Guitar\n",
        "class Guitar(Instrument):\n",
        "    def play(self):\n",
        "        print(\"Strumming the guitar 🎸.\")\n",
        "\n",
        "# Derived class: Piano\n",
        "class Piano(Instrument):\n",
        "    def play(self):\n",
        "        print(\"Playing the piano 🎹.\")\n",
        "\n",
        "# Function demonstrating runtime polymorphism\n",
        "def play_instrument(instrument):\n",
        "    instrument.play()\n",
        "\n",
        "# Example usage\n",
        "guitar = Guitar()\n",
        "piano = Piano()\n",
        "\n",
        "play_instrument(guitar)  # Output: Strumming the guitar 🎸.\n",
        "play_instrument(piano)   # Output: Playing the piano 🎹.\n",
        "\n"
      ],
      "metadata": {
        "colab": {
          "base_uri": "https://localhost:8080/"
        },
        "id": "8T8RfLbRkcUZ",
        "outputId": "b3187096-25fd-4101-e551-19dc1c59fd74"
      },
      "execution_count": null,
      "outputs": [
        {
          "output_type": "stream",
          "name": "stdout",
          "text": [
            "Strumming the guitar 🎸.\n",
            "Playing the piano 🎹.\n"
          ]
        }
      ]
    },
    {
      "cell_type": "code",
      "source": [
        "#7 Create a class MathOperations with a class method add_numbers() to add two numbers and a static method subtract_numbers() to subtract two numbers.\n",
        "\n",
        "class MathOperations:\n",
        "    @classmethod\n",
        "    def add_numbers(cls, a, b):\n",
        "        return a + b\n",
        "\n",
        "    @staticmethod\n",
        "    def subtract_numbers(a, b):\n",
        "        return a - b\n",
        "\n",
        "print(MathOperations.add_numbers(5, 3))\n",
        "print(MathOperations.subtract_numbers(10, 4))"
      ],
      "metadata": {
        "colab": {
          "base_uri": "https://localhost:8080/"
        },
        "id": "ri6Zz49zkxDM",
        "outputId": "b69f60b1-89b9-4e2d-a773-ffd8d67a9f06"
      },
      "execution_count": null,
      "outputs": [
        {
          "output_type": "stream",
          "name": "stdout",
          "text": [
            "8\n",
            "6\n"
          ]
        }
      ]
    },
    {
      "cell_type": "code",
      "source": [
        "#8 Implement a class Person with a class method to count the total number of persons created.\n",
        "class Person:\n",
        "    count = 0\n",
        "\n",
        "    def __init__(self, name):\n",
        "        self.name = name\n",
        "        Person.count += 1\n",
        "\n",
        "    @classmethod\n",
        "    def get_total_persons(cls):\n",
        "        return cls.count\n",
        "\n",
        "p1 = Person(\"Ranjith\")\n",
        "p2 = Person(\"Pavan\")\n",
        "p3 = Person(\"Sree\")\n",
        "\n",
        "print(Person.get_total_persons())"
      ],
      "metadata": {
        "colab": {
          "base_uri": "https://localhost:8080/"
        },
        "id": "NZkrnXdVk9Ac",
        "outputId": "6522fbae-5aa2-4595-a265-046694c7037c"
      },
      "execution_count": null,
      "outputs": [
        {
          "output_type": "stream",
          "name": "stdout",
          "text": [
            "3\n"
          ]
        }
      ]
    },
    {
      "cell_type": "code",
      "source": [
        "#9 Write a class Fraction with attributes numerator and denominator. Override the str method to display the fraction as \"numerator/denominator\".\n",
        "\n",
        "class Fraction:\n",
        "    def __init__(self, numerator, denominator):\n",
        "        self.numerator = numerator\n",
        "        self.denominator = denominator\n",
        "\n",
        "    def __str__(self):\n",
        "        return f\"{self.numerator}/{self.denominator}\"\n",
        "\n",
        "fraction1 = Fraction(3, 5)\n",
        "fraction2 = Fraction(1, 2)\n",
        "print(fraction1)\n",
        "print(fraction2)"
      ],
      "metadata": {
        "colab": {
          "base_uri": "https://localhost:8080/"
        },
        "id": "uONezNXSlVwd",
        "outputId": "89a1eb65-329a-4667-d819-31992bd6b299"
      },
      "execution_count": null,
      "outputs": [
        {
          "output_type": "stream",
          "name": "stdout",
          "text": [
            "3/5\n",
            "1/2\n"
          ]
        }
      ]
    },
    {
      "cell_type": "code",
      "source": [
        "#10. Demonstrate operator overloading by creating a class Vector and overriding the add method to add two vectors.\n",
        "class Vector:\n",
        "    def __init__(self, x, y):\n",
        "        self.x = x\n",
        "        self.y = y\n",
        "\n",
        "    def __add__(self, other):\n",
        "        if not isinstance(other, Vector):\n",
        "            raise TypeError(\"Operand must be a Vector.\")\n",
        "        return Vector(self.x + other.x, self.y + other.y)\n",
        "\n",
        "    def __str__(self):\n",
        "        return f\"({self.x}, {self.y})\"\n",
        "\n",
        "# Example usage\n",
        "v1 = Vector(3, 4)\n",
        "v2 = Vector(1, 2)\n",
        "\n",
        "v3 = v1 + v2\n",
        "\n",
        "print(f\"Vector 1: {v1}\")\n",
        "print(f\"Vector 2: {v2}\")\n",
        "print(f\"Sum: {v3}\")"
      ],
      "metadata": {
        "colab": {
          "base_uri": "https://localhost:8080/"
        },
        "id": "P4-oeqHGlxSP",
        "outputId": "c0224565-d8d5-4169-e599-57dc3c4378ae"
      },
      "execution_count": null,
      "outputs": [
        {
          "output_type": "stream",
          "name": "stdout",
          "text": [
            "Vector 1: (3, 4)\n",
            "Vector 2: (1, 2)\n",
            "Sum: (4, 6)\n"
          ]
        }
      ]
    },
    {
      "cell_type": "code",
      "source": [
        "#11. Create a class Person with attributes name and age. Add a method greet() that prints \"Hello, my name is {name} and I am {age} years old.\n",
        "class Person:\n",
        "    def __init__(self, name, age):\n",
        "        self.name = name\n",
        "        self.age = age\n",
        "\n",
        "    def greet(self):\n",
        "        print(f\"Hello, my name is {self.name} and I am {self.age} years old.\")\n",
        "\n",
        "# Example usage\n",
        "p1 = Person(\"Ranjith\", 28)\n",
        "p2 = Person(\"Pavan\", 29)\n",
        "\n",
        "p1.greet()\n",
        "p2.greet()\n"
      ],
      "metadata": {
        "colab": {
          "base_uri": "https://localhost:8080/"
        },
        "id": "_XZd-E4emYf0",
        "outputId": "d75f0cc5-dd87-4316-a8c5-04fdba1fa7a2"
      },
      "execution_count": null,
      "outputs": [
        {
          "output_type": "stream",
          "name": "stdout",
          "text": [
            "Hello, my name is Ranjith and I am 28 years old.\n",
            "Hello, my name is Pavan and I am 29 years old.\n"
          ]
        }
      ]
    },
    {
      "cell_type": "code",
      "source": [
        "#12. Implement a class Student with attributes name and grades. Create a method average_grade() to compute the average of the grades.\n",
        "\n",
        "class Student:\n",
        "    def __init__(self, name, grades):\n",
        "        self.name = name\n",
        "        self.grades = grades\n",
        "\n",
        "    def average_grade(self):\n",
        "        if not self.grades:\n",
        "            return 0\n",
        "        return sum(self.grades) / len(self.grades)\n",
        "\n",
        "s1 = Student(\"Ranjith\", [90, 85, 92, 78])\n",
        "s2 = Student(\"Pavan\", [88, 95, 79, 91])\n",
        "\n",
        "print(f\"{s1.name}'s Average Grade: {s1.average_grade()}\")\n",
        "print(f\"{s2.name}'s Average Grade: {s2.average_grade()}\")"
      ],
      "metadata": {
        "colab": {
          "base_uri": "https://localhost:8080/"
        },
        "id": "FgiYFyVYnSFH",
        "outputId": "03d9a20e-7a91-4d2c-8d17-1a97d7f783e8"
      },
      "execution_count": null,
      "outputs": [
        {
          "output_type": "stream",
          "name": "stdout",
          "text": [
            "Ranjith's Average Grade: 86.25\n",
            "Pavan's Average Grade: 88.25\n"
          ]
        }
      ]
    },
    {
      "cell_type": "code",
      "source": [
        "#13. Create a class Rectangle with methods set_dimensions() to set the dimensions and area() to calculate the area.\n",
        "\n",
        "class Rectangle:\n",
        "    def __init__(self, length=0, width=0):\n",
        "        self.length = length\n",
        "        self.width = width\n",
        "\n",
        "    def set_dimensions(self, length, width):\n",
        "        self.length = length\n",
        "        self.width = width\n",
        "\n",
        "    def area(self):\n",
        "        return self.length * self.width\n",
        "\n",
        "# Example usage\n",
        "rect1 = Rectangle()\n",
        "rect1.set_dimensions(5, 3)\n",
        "print(f\"Area of Rectangle 1: {rect1.area()}\")"
      ],
      "metadata": {
        "colab": {
          "base_uri": "https://localhost:8080/"
        },
        "id": "92aqovHlnxYq",
        "outputId": "d37ad54e-e25b-47ff-9dd0-36e60bff2700"
      },
      "execution_count": null,
      "outputs": [
        {
          "output_type": "stream",
          "name": "stdout",
          "text": [
            "Area of Rectangle 1: 15\n"
          ]
        }
      ]
    },
    {
      "cell_type": "code",
      "source": [
        "#14. Create a class Employee with a method calculate_salary() that computes the salary based on hours worked and hourly rate. Create a derived class Manager that adds a bonus to the salary\n",
        "# Base class\n",
        "class Employee:\n",
        "    def __init__(self, name, hours_worked, hourly_rate):\n",
        "        self.name = name\n",
        "        self.hours_worked = hours_worked\n",
        "        self.hourly_rate = hourly_rate\n",
        "\n",
        "    def calculate_salary(self):\n",
        "        return self.hours_worked * self.hourly_rate\n",
        "\n",
        "# Derived class\n",
        "class Manager(Employee):\n",
        "    def __init__(self, name, hours_worked, hourly_rate, bonus):\n",
        "        super().__init__(name, hours_worked, hourly_rate)\n",
        "        self.bonus = bonus\n",
        "\n",
        "    def calculate_salary(self):\n",
        "        base_salary = super().calculate_salary()\n",
        "        return base_salary + self.bonus\n",
        "\n",
        "# Example usage\n",
        "emp = Employee(\"Ranjith\", 40, 20)\n",
        "mgr = Manager(\"Kiran\", 40, 30, 500)\n",
        "\n",
        "print(f\"{emp.name}'s Salary: ${emp.calculate_salary()}\")\n",
        "print(f\"{mgr.name}'s Salary: ${mgr.calculate_salary()}\")\n"
      ],
      "metadata": {
        "colab": {
          "base_uri": "https://localhost:8080/"
        },
        "id": "_J_iQYpxoBF1",
        "outputId": "7e72e9c4-bfe4-48ad-9b73-495d57997be3"
      },
      "execution_count": null,
      "outputs": [
        {
          "output_type": "stream",
          "name": "stdout",
          "text": [
            "Ranjith's Salary: $800\n",
            "Kiran's Salary: $1700\n"
          ]
        }
      ]
    },
    {
      "cell_type": "code",
      "source": [
        "#15 Create a class Product with attributes name, price, and quantity. Implement a method total_price() that calculates the total price of the product.\n",
        "\n",
        "class Product:\n",
        "    def __init__(self, name, price, quantity):\n",
        "        self.name = name\n",
        "        self.price = price\n",
        "        self.quantity = quantity\n",
        "\n",
        "    def total_price(self):\n",
        "        return self.price * self.quantity\n",
        "\n",
        "# Example usage\n",
        "product1 = Product(\"Laptop\", 1000, 2)\n",
        "product2 = Product(\"Phone\", 500, 3)\n",
        "\n",
        "print(f\"Total Price of {product1.name}: ${product1.total_price()}\")\n",
        "print(f\"Total Price of {product2.name}: ${product2.total_price()}\")"
      ],
      "metadata": {
        "colab": {
          "base_uri": "https://localhost:8080/"
        },
        "id": "-PTrpIv0o5Ld",
        "outputId": "96200a7e-5e7a-4e7a-8655-693373a1c757"
      },
      "execution_count": null,
      "outputs": [
        {
          "output_type": "stream",
          "name": "stdout",
          "text": [
            "Total Price of Laptop: $2000\n",
            "Total Price of Phone: $1500\n"
          ]
        }
      ]
    },
    {
      "cell_type": "code",
      "source": [
        "#16. Create a class Animal with an abstract method sound(). Create two derived classes Cow and Sheep that implement the sound() method.\n",
        "from abc import ABC, abstractmethod\n",
        "\n",
        "class Animal(ABC):\n",
        "    @abstractmethod\n",
        "    def sound(self):\n",
        "        pass\n",
        "\n",
        "class Cow(Animal):\n",
        "    def sound(self):\n",
        "        return \"Moo!\"\n",
        "\n",
        "class Sheep(Animal):\n",
        "    def sound(self):\n",
        "        return \"Baa!\"\n",
        "\n",
        "#Example usage\n",
        "cow = Cow()\n",
        "sheep = Sheep()\n",
        "\n",
        "print(cow.sound())\n",
        "print(sheep.sound())"
      ],
      "metadata": {
        "colab": {
          "base_uri": "https://localhost:8080/"
        },
        "id": "Kj_kINNepclW",
        "outputId": "ccf2559f-16b0-404e-8b98-520f4f460cfa"
      },
      "execution_count": null,
      "outputs": [
        {
          "output_type": "stream",
          "name": "stdout",
          "text": [
            "Moo!\n",
            "Baa!\n"
          ]
        }
      ]
    },
    {
      "cell_type": "code",
      "source": [
        "#17. Create a class Book with attributes title, author, and year_published. Add a method get_book_info() that returns a formatted string with the book's details.\n",
        "class Book:\n",
        "    def __init__(self, title, author, year_published):\n",
        "        self.title = title\n",
        "        self.author = author\n",
        "        self.year_published = year_published\n",
        "\n",
        "    def get_book_info(self):\n",
        "        return f\"'{self.title}' by {self.author}, published in {self.year_published}.\"\n",
        "\n",
        "# Example usage\n",
        "book1 = Book(\"To Kill a Mockingbird\", \"Harper Lee\", 1960)\n",
        "book2 = Book(\"1984\", \"George Orwell\", 1949)\n",
        "\n",
        "print(book1.get_book_info())\n",
        "print(book2.get_book_info())"
      ],
      "metadata": {
        "colab": {
          "base_uri": "https://localhost:8080/"
        },
        "id": "8bRmhYDIpwxR",
        "outputId": "3f9979c2-9a50-4569-be91-cfb7899342af"
      },
      "execution_count": null,
      "outputs": [
        {
          "output_type": "stream",
          "name": "stdout",
          "text": [
            "'To Kill a Mockingbird' by Harper Lee, published in 1960.\n",
            "'1984' by George Orwell, published in 1949.\n"
          ]
        }
      ]
    },
    {
      "cell_type": "code",
      "source": [
        "#18. Create a class House with attributes address and price. Create a derived class Mansion that adds an attribute number_of_rooms.\n",
        "\n",
        "#Base class\n",
        "class House:\n",
        "    def __init__(self, address, price):\n",
        "        self.address = address\n",
        "        self.price = price\n",
        "\n",
        "    def get_details(self):\n",
        "        return f\"Address: {self.address}\\nPrice: ${self.price}\"\n",
        "\n",
        "#Derived class\n",
        "class Mansion(House):\n",
        "    def __init__(self, address, price, number_of_rooms):\n",
        "        super().__init__(address, price)\n",
        "        self.number_of_rooms = number_of_rooms\n",
        "\n",
        "    def get_details(self):\n",
        "        base_details = super().get_details()\n",
        "        return f\"{base_details}\\nNumber of Rooms: {self.number_of_rooms}\"\n",
        "\n",
        "# Example usage\n",
        "house1 = House(\"166 JC Nagar Bangalore\", 250000)\n",
        "mansion1 = Mansion(\"456 Shivajinagr Bangalore\", 500000, 5)\n",
        "\n",
        "print(house1.get_details())\n",
        "print(\"\\n\")\n",
        "print(mansion1.get_details())\n"
      ],
      "metadata": {
        "colab": {
          "base_uri": "https://localhost:8080/"
        },
        "id": "djzmGBnNqLTD",
        "outputId": "981dac91-eb7c-4832-d78a-f6ecd6e484d7"
      },
      "execution_count": null,
      "outputs": [
        {
          "output_type": "stream",
          "name": "stdout",
          "text": [
            "Address: 166 JC Nagar Bangalore\n",
            "Price: $250000\n",
            "\n",
            "\n",
            "Address: 456 Shivajinagr Bangalore\n",
            "Price: $500000\n",
            "Number of Rooms: 5\n"
          ]
        }
      ]
    },
    {
      "cell_type": "code",
      "source": [],
      "metadata": {
        "id": "EgUH6Nhyqwcw"
      },
      "execution_count": null,
      "outputs": []
    }
  ]
}